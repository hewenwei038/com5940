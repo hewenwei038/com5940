{
 "cells": [
  {
   "cell_type": "code",
   "execution_count": null,
   "metadata": {},
   "outputs": [
    {
     "name": "stderr",
     "output_type": "stream",
     "text": [
      " * Running on http://localhost:9011/ (Press CTRL+C to quit)\n",
      "127.0.0.1 - - [20/Feb/2020 20:54:51] \"GET / HTTP/1.1\" 200 -\n",
      "127.0.0.1 - - [20/Feb/2020 20:54:51] \"GET /pricing.css HTTP/1.1\" 404 -\n",
      "127.0.0.1 - - [20/Feb/2020 20:54:55] \"GET /docs/4.4/assets/brand/bootstrap-solid.svg HTTP/1.1\" 404 -\n",
      "127.0.0.1 - - [20/Feb/2020 20:54:58] \"GET /docs/4.4/assets/img/favicons/favicon.ico HTTP/1.1\" 404 -\n",
      "127.0.0.1 - - [20/Feb/2020 20:54:59] \"GET /docs/4.4/assets/img/favicons/manifest.json HTTP/1.1\" 404 -\n",
      "127.0.0.1 - - [20/Feb/2020 20:54:59] \"GET /docs/4.4/assets/img/favicons/favicon-32x32.png HTTP/1.1\" 404 -\n",
      "127.0.0.1 - - [20/Feb/2020 20:55:04] \"GET /docs/4.4/assets/img/favicons/favicon-16x16.png HTTP/1.1\" 404 -\n"
     ]
    }
   ],
   "source": [
    "from flask import Flask, render_template\n",
    "import pymysql.cursors \n",
    "import requests\n",
    "\n",
    "app = Flask(__name__)\n",
    "\n",
    "@app.route(\"/\")\n",
    "def index():\n",
    "    headers = {\n",
    "        'Authorization': 'Bearer keyoTyp67gQNhCiwu',\n",
    "    }\n",
    "\n",
    "    params = (\n",
    "    ('view', 'Grid view'),\n",
    "    )\n",
    "\n",
    "    r = requests.get('https://api.airtable.com/v0/appM2MoR8raI0efOi/Imported%20table%202?api_key=keyoTyp67gQNhCiwu', headers=headers, params=params)\n",
    "    dict = r.json()   #将json换成dictionary - python就是list和dictionary，js是array和object\n",
    "    dataset = []\n",
    "    for i in dict['records']:\n",
    "         dict = i['fields']\n",
    "         dataset.append(dict)\n",
    "    #  {% for row in dataset  %}{{ row[\"name\"] }}{% endfor %}\n",
    "    return render_template('index.html',dataset=dataset)\n",
    "\n",
    "\n",
    "if __name__ == '__main__':\n",
    "    from werkzeug.serving import run_simple\n",
    "    run_simple('localhost', 9011, app)\n",
    "# if __name__ == '__main__':\n",
    "   # app.run(debug = True)"
   ]
  },
  {
   "cell_type": "code",
   "execution_count": null,
   "metadata": {},
   "outputs": [],
   "source": []
  }
 ],
 "metadata": {
  "kernelspec": {
   "display_name": "Python 3",
   "language": "python",
   "name": "python3"
  },
  "language_info": {
   "codemirror_mode": {
    "name": "ipython",
    "version": 3
   },
   "file_extension": ".py",
   "mimetype": "text/x-python",
   "name": "python",
   "nbconvert_exporter": "python",
   "pygments_lexer": "ipython3",
   "version": "3.7.4"
  }
 },
 "nbformat": 4,
 "nbformat_minor": 2
}
